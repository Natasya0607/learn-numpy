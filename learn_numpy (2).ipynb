{
  "nbformat": 4,
  "nbformat_minor": 0,
  "metadata": {
    "colab": {
      "provenance": []
    },
    "kernelspec": {
      "name": "python3",
      "display_name": "Python 3"
    },
    "language_info": {
      "name": "python"
    }
  },
  "cells": [
    {
      "cell_type": "code",
      "execution_count": null,
      "metadata": {
        "colab": {
          "base_uri": "https://localhost:8080/"
        },
        "id": "6KNODXzVvFs4",
        "outputId": "31252763-ba4c-4a60-ffde-6997a4b7645a"
      },
      "outputs": [
        {
          "output_type": "stream",
          "name": "stdout",
          "text": [
            "Requirement already satisfied: numpy in /usr/local/lib/python3.10/dist-packages (1.25.2)\n"
          ]
        }
      ],
      "source": [
        "pip install numpy"
      ]
    },
    {
      "cell_type": "markdown",
      "source": [
        "belajar menggunakan numpy"
      ],
      "metadata": {
        "id": "QiM-QUoA1fN0"
      }
    },
    {
      "cell_type": "code",
      "source": [
        "import numpy as np"
      ],
      "metadata": {
        "id": "8uNisNT6q-ks"
      },
      "execution_count": null,
      "outputs": []
    },
    {
      "cell_type": "code",
      "source": [
        "list1 = np.array([1,2,3,4,5,6])\n",
        "print(list1)\n",
        "print(type(list1))"
      ],
      "metadata": {
        "colab": {
          "base_uri": "https://localhost:8080/"
        },
        "id": "n5GDGCC-1hpZ",
        "outputId": "c7cc13f3-03eb-4b46-931f-3c33a3178fae"
      },
      "execution_count": null,
      "outputs": [
        {
          "output_type": "stream",
          "name": "stdout",
          "text": [
            "[1 2 3 4 5 6]\n",
            "<class 'numpy.ndarray'>\n"
          ]
        }
      ]
    },
    {
      "cell_type": "markdown",
      "source": [
        "jika kita mengimpor numpy pada codenya jgn lupa menggunakan np (np merupakan inisial dari numpy yang kita buat dan ditambah dengan array di sampin np. berikut ini contoh yang lain:"
      ],
      "metadata": {
        "id": "0WvoTdGn2TAN"
      }
    },
    {
      "cell_type": "code",
      "source": [
        "#cth yg lain\n",
        "list2 = np.array((1,2,3,4,5,6,7,8,9))\n",
        "print(list2)"
      ],
      "metadata": {
        "colab": {
          "base_uri": "https://localhost:8080/"
        },
        "id": "SXUXQZvz2ueJ",
        "outputId": "e3c60cba-58e2-4fc2-f31a-e9c9c23c850e"
      },
      "execution_count": null,
      "outputs": [
        {
          "output_type": "stream",
          "name": "stdout",
          "text": [
            "[1 2 3 4 5 6 7 8 9]\n"
          ]
        }
      ]
    },
    {
      "cell_type": "code",
      "source": [
        "#cara untuk memeriksa area list1 untuk melihat brpa bnyk anggota yg di milki\n",
        "list2.shape"
      ],
      "metadata": {
        "colab": {
          "base_uri": "https://localhost:8080/"
        },
        "id": "XpFkok_L4wkD",
        "outputId": "607b547d-9fb3-4432-d919-f40bb528cf10"
      },
      "execution_count": null,
      "outputs": [
        {
          "output_type": "execute_result",
          "data": {
            "text/plain": [
              "(9,)"
            ]
          },
          "metadata": {},
          "execution_count": 7
        }
      ]
    },
    {
      "cell_type": "markdown",
      "source": [
        "kemudian numpy juga bisa membuat matriks dimana dalam matriks terdapat baris dan kolom"
      ],
      "metadata": {
        "id": "jxV_oelb6phb"
      }
    },
    {
      "cell_type": "code",
      "source": [
        "list3 = np.array([(1,2,3),(4,5,6),(7,8,9)])\n",
        "print(list3)\n",
        "list3.shape"
      ],
      "metadata": {
        "colab": {
          "base_uri": "https://localhost:8080/"
        },
        "id": "hTuBqJTP6w2I",
        "outputId": "b8ea5ec9-01c6-48c7-cf6e-5c255a4e1b24"
      },
      "execution_count": null,
      "outputs": [
        {
          "output_type": "stream",
          "name": "stdout",
          "text": [
            "[[1 2 3]\n",
            " [4 5 6]\n",
            " [7 8 9]]\n"
          ]
        },
        {
          "output_type": "execute_result",
          "data": {
            "text/plain": [
              "(3, 3)"
            ]
          },
          "metadata": {},
          "execution_count": 10
        }
      ]
    },
    {
      "cell_type": "markdown",
      "source": [
        "dalam numpy kita dapat membuat matriks nol dengan menggunakan atribut\"zeros\" berikut ini cara nya:\n"
      ],
      "metadata": {
        "id": "CtWEiivZ_YlU"
      }
    },
    {
      "cell_type": "code",
      "source": [
        "nol = np.zeros((3,4))\n",
        "print(nol)"
      ],
      "metadata": {
        "colab": {
          "base_uri": "https://localhost:8080/"
        },
        "id": "WB0EHZhSAByz",
        "outputId": "10d7e062-e45f-419a-a913-385aa93ab12f"
      },
      "execution_count": null,
      "outputs": [
        {
          "output_type": "stream",
          "name": "stdout",
          "text": [
            "[[0. 0. 0. 0.]\n",
            " [0. 0. 0. 0.]\n",
            " [0. 0. 0. 0.]]\n"
          ]
        }
      ]
    },
    {
      "cell_type": "markdown",
      "source": [
        "kita juga dapat membuat matriks 3d yakni sebagai berikut."
      ],
      "metadata": {
        "id": "buLK9QIv1QCW"
      }
    },
    {
      "cell_type": "code",
      "source": [
        "matrix_3d = np.zeros((2, 3, 4))\n",
        "print(matrix_3d)"
      ],
      "metadata": {
        "colab": {
          "base_uri": "https://localhost:8080/"
        },
        "id": "eG3d3hNe0u4o",
        "outputId": "d963cd2d-8e00-4385-c538-eb58e746baba"
      },
      "execution_count": null,
      "outputs": [
        {
          "output_type": "stream",
          "name": "stdout",
          "text": [
            "[[[0. 0. 0. 0.]\n",
            "  [0. 0. 0. 0.]\n",
            "  [0. 0. 0. 0.]]\n",
            "\n",
            " [[0. 0. 0. 0.]\n",
            "  [0. 0. 0. 0.]\n",
            "  [0. 0. 0. 0.]]]\n"
          ]
        }
      ]
    },
    {
      "cell_type": "markdown",
      "source": [
        "selain zero, kita dapat menggunakan ones biar sragam dalam matriks"
      ],
      "metadata": {
        "id": "vGe7FHhzIMvD"
      }
    },
    {
      "cell_type": "code",
      "source": [
        "satu =np.ones((4,5))\n",
        "print (satu)\n",
        "dua = np.ones((3,))\n",
        "print(dua)"
      ],
      "metadata": {
        "colab": {
          "base_uri": "https://localhost:8080/"
        },
        "id": "W4e0QUVvBWkU",
        "outputId": "97590c2e-2033-45ab-d8d9-1c56c8c3e3dd"
      },
      "execution_count": null,
      "outputs": [
        {
          "output_type": "stream",
          "name": "stdout",
          "text": [
            "[[1. 1. 1. 1. 1.]\n",
            " [1. 1. 1. 1. 1.]\n",
            " [1. 1. 1. 1. 1.]\n",
            " [1. 1. 1. 1. 1.]]\n",
            "[1. 1. 1.]\n"
          ]
        }
      ]
    },
    {
      "cell_type": "markdown",
      "source": [
        "array of a particular value = dimana kita dapat membuat nilai tertentu. kita dapat menggunakan np.full untuk menggunakan nilai tertentu."
      ],
      "metadata": {
        "id": "V0iZpcJwIL2L"
      }
    },
    {
      "cell_type": "code",
      "source": [
        "# array of a particular\n",
        "z = np.full((3,4),7)\n",
        "print(z)"
      ],
      "metadata": {
        "colab": {
          "base_uri": "https://localhost:8080/"
        },
        "id": "O8qaQhcqpzwO",
        "outputId": "a3b259be-989f-4205-d5ac-996a9208f505"
      },
      "execution_count": null,
      "outputs": [
        {
          "output_type": "stream",
          "name": "stdout",
          "text": [
            "[[7 7 7 7]\n",
            " [7 7 7 7]\n",
            " [7 7 7 7]]\n"
          ]
        }
      ]
    },
    {
      "cell_type": "markdown",
      "source": [
        "dalam numpy dapat di membuat matrik identitas yang mana isinya adalah angka 0 dan angka 1 dalam bentuk diagonal dan dalam penulisan kode cukup sekali saja tidak seperti yang di atas kita menentukan kolom dan baris seperti (4,5). kita hanya memasukkan angka satu saja karena matriks identitas harus berbentuk persegi. Dalam penggunaanya kita menggunakan numpy jenis eye. berikut cth nya:"
      ],
      "metadata": {
        "id": "SXtJ8RdFwBWh"
      }
    },
    {
      "cell_type": "code",
      "source": [
        "b = np.eye((4))\n",
        "print(b)"
      ],
      "metadata": {
        "colab": {
          "base_uri": "https://localhost:8080/"
        },
        "id": "rG0HrcKuwQkF",
        "outputId": "c7a231bf-151a-404d-d9e4-33c28db8d284"
      },
      "execution_count": null,
      "outputs": [
        {
          "output_type": "stream",
          "name": "stdout",
          "text": [
            "[[1. 0. 0. 0.]\n",
            " [0. 1. 0. 0.]\n",
            " [0. 0. 1. 0.]\n",
            " [0. 0. 0. 1.]]\n"
          ]
        }
      ]
    },
    {
      "cell_type": "markdown",
      "source": [
        "membuat matriks dengan nilai angka random. disini kita dapat membuat matriks dengan angkanya yang random dengan menggunakan numpy"
      ],
      "metadata": {
        "id": "c0_KGBEuymjo"
      }
    },
    {
      "cell_type": "code",
      "source": [
        "np.set_printoptions(precision=6, suppress=True)\n",
        "#kode diatas merupakan precision untuk menentukan jumlah angka desimal yang ingin\n",
        "#Anda tampilkan dan suppress untuk menonaktifkan notasi ilmiah"
      ],
      "metadata": {
        "id": "qkzK55Ab1kHv"
      },
      "execution_count": null,
      "outputs": []
    },
    {
      "cell_type": "code",
      "source": [
        "#menggunakan numpy dengan angka random\n",
        "c = np.random.random ((3,4))\n",
        "print(c)"
      ],
      "metadata": {
        "colab": {
          "base_uri": "https://localhost:8080/"
        },
        "id": "Clq93DF40f8V",
        "outputId": "0b75539d-cb23-4349-c50d-02385868c430"
      },
      "execution_count": null,
      "outputs": [
        {
          "output_type": "stream",
          "name": "stdout",
          "text": [
            "[[0.892851 0.458493 0.121223 0.692628]\n",
            " [0.265271 0.870301 0.659479 0.680205]\n",
            " [0.457035 0.807118 0.422362 0.858637]]\n"
          ]
        }
      ]
    },
    {
      "cell_type": "markdown",
      "source": [
        "menggunakan np.random.random akan menghasilkan output hanya berada di kisaran 0 sampai 1. tidak ada yang kurang dari 0 maupun di atas 1."
      ],
      "metadata": {
        "id": "9VhDXG3q2MwY"
      }
    },
    {
      "cell_type": "markdown",
      "source": [
        "kita dapat menggunakan numpy dengan angka random bilang bulat serta membuat batasan pada bilangan bulat random. kode yang digunakan adalah np.random.randint"
      ],
      "metadata": {
        "id": "N25S5HQG2358"
      }
    },
    {
      "cell_type": "code",
      "source": [
        "g = np.random.randint(12,200,(4,5))\n",
        "print(g)"
      ],
      "metadata": {
        "colab": {
          "base_uri": "https://localhost:8080/"
        },
        "id": "iPkT121C3YGC",
        "outputId": "7bec30bf-dea9-450e-c56c-bc0979e2b80b"
      },
      "execution_count": null,
      "outputs": [
        {
          "output_type": "stream",
          "name": "stdout",
          "text": [
            "[[189 188 196 137  32]\n",
            " [170 108 191 158 166]\n",
            " [ 62 156 165  24 118]\n",
            " [151  93 131  67 136]]\n"
          ]
        }
      ]
    },
    {
      "cell_type": "markdown",
      "source": [
        "angka 12 adalah angka awal angka 200 adalah angka akhir. angka 4 dan 5 adlh jumlah baris dan kolom. dengan menggunakan randint tidak dibatasi antara 0 sampai 1."
      ],
      "metadata": {
        "id": "A2NaK84A_iXw"
      }
    },
    {
      "cell_type": "markdown",
      "source": [
        "numpy jg dapat mendukung untuk bilangan berkelipatan seperti kelipatan 5 kelipatan 6 dll. kode yang digunakan adalah np.linspace"
      ],
      "metadata": {
        "id": "pwKYV73XAgqD"
      }
    },
    {
      "cell_type": "code",
      "source": [
        "s = np.linspace(12,72,6)\n",
        "print(s)\n",
        "#12 adalah angka awal, 72 angka akhir, dan 6 adalah bilangan kelipatan\n"
      ],
      "metadata": {
        "colab": {
          "base_uri": "https://localhost:8080/"
        },
        "id": "smmneLhjBtFW",
        "outputId": "b8d2fe62-4fc2-42d3-b4a0-77e5e74d0b13"
      },
      "execution_count": null,
      "outputs": [
        {
          "output_type": "stream",
          "name": "stdout",
          "text": [
            "[12. 24. 36. 48. 60. 72.]\n"
          ]
        }
      ]
    },
    {
      "cell_type": "markdown",
      "source": [
        "kemudian dapat juga membuat kelipatan jg namun nilai awal dan akhir tidak diikuti"
      ],
      "metadata": {
        "id": "DCoDjXFgFnan"
      }
    },
    {
      "cell_type": "code",
      "source": [
        "h = np.arange(10,30,5)\n",
        "print(h)"
      ],
      "metadata": {
        "colab": {
          "base_uri": "https://localhost:8080/"
        },
        "id": "ufI8N83fF5vo",
        "outputId": "e44dedb0-c1fe-4509-a1fc-296e24a87036"
      },
      "execution_count": null,
      "outputs": [
        {
          "output_type": "stream",
          "name": "stdout",
          "text": [
            "[10 15 20 25]\n"
          ]
        }
      ]
    },
    {
      "cell_type": "markdown",
      "source": [
        "ingat satu hal. dalam list dan tuple kita dapat mengubah tipe data nya menjadi array numpy"
      ],
      "metadata": {
        "id": "1LAoEB07IViH"
      }
    },
    {
      "cell_type": "code",
      "source": [
        "list3 = [10,20,30,40]\n",
        "halo = np.array(list3)\n",
        "print(halo)\n",
        "print(type(halo))"
      ],
      "metadata": {
        "colab": {
          "base_uri": "https://localhost:8080/"
        },
        "id": "5y0GkoFnImIr",
        "outputId": "a7e04bc7-ce2f-492f-d9fb-18ffb06e8350"
      },
      "execution_count": null,
      "outputs": [
        {
          "output_type": "stream",
          "name": "stdout",
          "text": [
            "[10 20 30 40]\n",
            "<class 'numpy.ndarray'>\n"
          ]
        }
      ]
    },
    {
      "cell_type": "markdown",
      "source": [
        "==analysing a numpy array===\n",
        "\n",
        "dalam analisis dapat menghitung jumlah anggota di dalam matriks."
      ],
      "metadata": {
        "id": "unW-ydwSdfwX"
      }
    },
    {
      "cell_type": "code",
      "source": [
        "b = np.eye(5)\n",
        "print(b)\n",
        "c = np.size (b)\n",
        "print (c)"
      ],
      "metadata": {
        "colab": {
          "base_uri": "https://localhost:8080/"
        },
        "id": "EQj320g0d8hn",
        "outputId": "8fed380f-7927-48d7-a321-04d7c89f98fd"
      },
      "execution_count": null,
      "outputs": [
        {
          "output_type": "stream",
          "name": "stdout",
          "text": [
            "[[1. 0. 0. 0. 0.]\n",
            " [0. 1. 0. 0. 0.]\n",
            " [0. 0. 1. 0. 0.]\n",
            " [0. 0. 0. 1. 0.]\n",
            " [0. 0. 0. 0. 1.]]\n",
            "25\n"
          ]
        }
      ]
    },
    {
      "cell_type": "code",
      "source": [
        "zet = np.random.randint(1,65,(4,4))\n",
        "print(zet)"
      ],
      "metadata": {
        "colab": {
          "base_uri": "https://localhost:8080/"
        },
        "id": "sVN3ctwmy1nI",
        "outputId": "b6de7a8e-239b-49b4-d8c5-d6be35c2d71a"
      },
      "execution_count": null,
      "outputs": [
        {
          "output_type": "stream",
          "name": "stdout",
          "text": [
            "[[47 55 16 35]\n",
            " [48 42 58 12]\n",
            " [39 40  5 49]\n",
            " [ 8 19 55 19]]\n"
          ]
        }
      ]
    },
    {
      "cell_type": "code",
      "source": [
        "print(zet.shape)"
      ],
      "metadata": {
        "colab": {
          "base_uri": "https://localhost:8080/"
        },
        "id": "WhSOLFHTzEW_",
        "outputId": "31cb4236-1da9-45ee-f007-ba6a8746964f"
      },
      "execution_count": null,
      "outputs": [
        {
          "output_type": "stream",
          "name": "stdout",
          "text": [
            "(4, 4)\n"
          ]
        }
      ]
    },
    {
      "cell_type": "markdown",
      "source": [
        "pada analiys dapat menggunakan pengecekkan dimensi suatu matriks. dengan menggunakan (nama).ndim"
      ],
      "metadata": {
        "id": "PWdCDbMEzRVF"
      }
    },
    {
      "cell_type": "code",
      "source": [
        "biru = zet.ndim\n",
        "print(biru)\n",
        "\n",
        "#atau langsung di lakukan pencetakan jg bisa\n",
        "\n",
        "print(zet.ndim)"
      ],
      "metadata": {
        "colab": {
          "base_uri": "https://localhost:8080/"
        },
        "id": "BQrSdER6zigz",
        "outputId": "44349e0b-b4ec-4011-8f19-cdf557ec4469"
      },
      "execution_count": null,
      "outputs": [
        {
          "output_type": "stream",
          "name": "stdout",
          "text": [
            "2\n",
            "2\n"
          ]
        }
      ]
    },
    {
      "cell_type": "markdown",
      "source": [
        "kita dapat  menentukan jenis data yang disimpan dalam array NumPy yakni dengan menggunakan numpy dengan code dtype"
      ],
      "metadata": {
        "id": "imrVlBLw20cI"
      }
    },
    {
      "cell_type": "code",
      "source": [
        "print (zet.dtype)"
      ],
      "metadata": {
        "colab": {
          "base_uri": "https://localhost:8080/"
        },
        "id": "2kIo5Egu3Vdd",
        "outputId": "ddf844e9-07e8-4848-93c6-942353b4436f"
      },
      "execution_count": null,
      "outputs": [
        {
          "output_type": "stream",
          "name": "stdout",
          "text": [
            "int64\n"
          ]
        }
      ]
    },
    {
      "cell_type": "markdown",
      "source": [
        "pada numpy dapat kita jumlahkan pada variabel kita dibandingkan dengan kita melakukan penjumlah tanpa numpy yang mana akan menjadi 2 gabungan."
      ],
      "metadata": {
        "id": "irzF1beM5X_Y"
      }
    },
    {
      "cell_type": "code",
      "source": [
        "#tanpa numpy\n",
        "data1 = [1,2,3,4,5]\n",
        "data2 = [6,7,8,9,10]\n",
        "print(data1 + data2)"
      ],
      "metadata": {
        "colab": {
          "base_uri": "https://localhost:8080/"
        },
        "id": "DmYiF0WG5ljF",
        "outputId": "46cfa30d-a564-42c4-8344-10a8a4b2f9df"
      },
      "execution_count": null,
      "outputs": [
        {
          "output_type": "stream",
          "name": "stdout",
          "text": [
            "[1, 2, 3, 4, 5, 6, 7, 8, 9, 10]\n"
          ]
        }
      ]
    },
    {
      "cell_type": "markdown",
      "source": [
        "dari kode di atas tanpa menggunakan atribut dari numpy hanya melakukan penggabungan antara data1 dan data 2"
      ],
      "metadata": {
        "id": "DRg99Mcf52Et"
      }
    },
    {
      "cell_type": "code",
      "source": [
        "number = np.array([1,2,3,4,5])\n",
        "count = np.array([6,7,8,9,10])\n",
        "print(number + count)\n",
        "print (number - count)"
      ],
      "metadata": {
        "colab": {
          "base_uri": "https://localhost:8080/"
        },
        "id": "_m6ir5oh6cR_",
        "outputId": "06ce3a58-ab61-4f21-c16f-0c764b8a7ea9"
      },
      "execution_count": null,
      "outputs": [
        {
          "output_type": "stream",
          "name": "stdout",
          "text": [
            "[ 7  9 11 13 15]\n",
            "[-5 -5 -5 -5 -5]\n"
          ]
        }
      ]
    },
    {
      "cell_type": "markdown",
      "source": [
        "dari cara di atas dapat dilakukan operasi perhitungan matematika"
      ],
      "metadata": {
        "id": "aiYp-OBl7Skd"
      }
    },
    {
      "cell_type": "markdown",
      "source": [
        "numpy dapat menambahkan var nya dengan kode yg diberikan secara langsung. yakni menggunakan add (tambah), subtract(kurang), divide (pembagian), dan multiply (perkalian)"
      ],
      "metadata": {
        "id": "UZU8zUj4-UGS"
      }
    },
    {
      "cell_type": "code",
      "source": [
        "result_add = np.add([1, 2, 3], [4, 5, 6])\n",
        "print(result_add)\n",
        "\n",
        "result_multiply = np.multiply([1, 2, 3], [4, 5, 6])\n",
        "print(result_multiply)\n",
        "\n",
        "result_subtract = np.subtract([1, 2, 3], [4, 5, 6])\n",
        "print(result_subtract)\n",
        "\n",
        "result_divide = np.divide([1, 2, 3], [4, 5, 6])\n",
        "print(result_divide)"
      ],
      "metadata": {
        "colab": {
          "base_uri": "https://localhost:8080/"
        },
        "id": "8AA2oVnV-1to",
        "outputId": "1c9bbec9-374a-47b2-fd8e-8f45c9d30770"
      },
      "execution_count": null,
      "outputs": [
        {
          "output_type": "stream",
          "name": "stdout",
          "text": [
            "[5 7 9]\n",
            "[ 4 10 18]\n",
            "[-3 -3 -3]\n",
            "[0.25 0.4  0.5 ]\n"
          ]
        }
      ]
    },
    {
      "cell_type": "markdown",
      "source": [
        "dalam perkalian matriks di numpy ada 2 cara kita lakuan. yang pertama adalah menggunakan dot (np.dot)."
      ],
      "metadata": {
        "id": "tCB2ObaASfeo"
      }
    },
    {
      "cell_type": "code",
      "source": [
        "#cara pertama menggunakan np.dot(a,b)\n",
        "a = np.array(([1,2], [3,4]))\n",
        "b = np.array(([5,6], [7,8]))\n",
        "c = np.dot(a,b)\n",
        "print(c)"
      ],
      "metadata": {
        "colab": {
          "base_uri": "https://localhost:8080/"
        },
        "id": "nn8gVLAHUAy9",
        "outputId": "bc175b29-a5c4-4623-c47e-142cc2b60c3a"
      },
      "execution_count": null,
      "outputs": [
        {
          "output_type": "stream",
          "name": "stdout",
          "text": [
            "matriks a: [[1 2]\n",
            " [3 4]]\n",
            "[[19 22]\n",
            " [43 50]]\n"
          ]
        }
      ]
    },
    {
      "cell_type": "code",
      "source": [
        "#cara kedua menggunakan a.dot(b)\n",
        "a = np.array(([1,2], [3,4]))\n",
        "b = np.array(([5,6], [7,8]))\n",
        "c = a.dot(b)\n",
        "print(c)"
      ],
      "metadata": {
        "colab": {
          "base_uri": "https://localhost:8080/"
        },
        "id": "ALYcoz9uiokg",
        "outputId": "200c5fff-6c7b-472c-abf8-931d46de1991"
      },
      "execution_count": null,
      "outputs": [
        {
          "output_type": "stream",
          "name": "stdout",
          "text": [
            "[[19 22]\n",
            " [43 50]]\n"
          ]
        }
      ]
    },
    {
      "cell_type": "markdown",
      "source": [
        "penggunaan numpy dapat melakukan manipulasi array. salah satu yang digunakan yaitu transpose"
      ],
      "metadata": {
        "id": "7mo4hsT9BECf"
      }
    },
    {
      "cell_type": "code",
      "source": [
        "# penggunaan transpose dari kolom ke baris baris ke kolom, begitu jg dengan angka - angkanya akan berubah tempat yakni dari kolom ke baris\n",
        "# baris ke kolom\n",
        "arr = np.random.randint(1, 11, (2, 3))\n",
        "print (arr)\n",
        "print(arr.shape)\n",
        "\n",
        "print(8*('*'))\n",
        "\n",
        "trans = np.transpose(arr)\n",
        "print (trans)\n",
        "print (trans.shape)"
      ],
      "metadata": {
        "colab": {
          "base_uri": "https://localhost:8080/"
        },
        "id": "rJapzE9nBRgD",
        "outputId": "8b276170-d044-4d40-ed9b-de0af5ceb971"
      },
      "execution_count": null,
      "outputs": [
        {
          "output_type": "stream",
          "name": "stdout",
          "text": [
            "[[ 3  3  5]\n",
            " [ 1  9 10]]\n",
            "(2, 3)\n",
            "********\n",
            "[[ 3  1]\n",
            " [ 3  9]\n",
            " [ 5 10]]\n",
            "(3, 2)\n"
          ]
        }
      ]
    },
    {
      "cell_type": "markdown",
      "source": [
        "numpy dapat melakukan perubahan pd shape\n"
      ],
      "metadata": {
        "id": "ovq1R6RsD5a1"
      }
    },
    {
      "cell_type": "code",
      "source": [
        "#mengubah shape menggunakan reshape\n",
        "a = np.array(([1,2], [3,4], [5,6]))\n",
        "print(a.reshape(2,3))\n",
        "# yang awalnya baris 3 dan kolom 2, sekarang berubah menjadi 2 baris\n",
        "# dan 3 kolom"
      ],
      "metadata": {
        "colab": {
          "base_uri": "https://localhost:8080/"
        },
        "id": "dbtWb8WOEDGQ",
        "outputId": "c5ddcfcf-2f55-4bba-c98d-f4ecf01a0489"
      },
      "execution_count": null,
      "outputs": [
        {
          "output_type": "stream",
          "name": "stdout",
          "text": [
            "[[1 2 3]\n",
            " [4 5 6]]\n"
          ]
        }
      ]
    },
    {
      "cell_type": "markdown",
      "source": [
        "hanya seputaran kolom dan baris yang telah ditentukan tidak bisa merubah angka lebih besar lagi pada shape nya"
      ],
      "metadata": {
        "id": "YKCbOn_6Ebyg"
      }
    },
    {
      "cell_type": "code",
      "source": [
        "#melakukan latihan\n",
        "a = np.arange(10)**2 #dengan menggunakan pangkat ini menandakan perhitungan dari 0 sampe 9 di pangkatkan 2\n",
        "print(f\"tolong cetak {a[:5]}\")\n",
        "print(f\"tolong cetak {a[1:7]}\")\n",
        "print(f\"tolong cetak {a[0:]}\")"
      ],
      "metadata": {
        "colab": {
          "base_uri": "https://localhost:8080/"
        },
        "id": "g5nYNvvltFpx",
        "outputId": "c85da616-051f-4dd5-9cf9-6500979787b3"
      },
      "execution_count": null,
      "outputs": [
        {
          "output_type": "stream",
          "name": "stdout",
          "text": [
            "tolong cetak [ 0  1  4  9 16]\n",
            "tolong cetak [ 1  4  9 16 25 36]\n",
            "tolong cetak [ 0  1  4  9 16 25 36 49 64 81]\n"
          ]
        }
      ]
    },
    {
      "cell_type": "code",
      "source": [
        "a = np.arange(10)\n",
        "for i in a:\n",
        "  print(f\"value: {i}\")"
      ],
      "metadata": {
        "colab": {
          "base_uri": "https://localhost:8080/"
        },
        "id": "suYyP9LIss8w",
        "outputId": "1d1c3723-9231-4e16-8005-815a0bff7388"
      },
      "execution_count": null,
      "outputs": [
        {
          "output_type": "stream",
          "name": "stdout",
          "text": [
            "value: 0\n",
            "value: 1\n",
            "value: 2\n",
            "value: 3\n",
            "value: 4\n",
            "value: 5\n",
            "value: 6\n",
            "value: 7\n",
            "value: 8\n",
            "value: 9\n"
          ]
        }
      ]
    },
    {
      "cell_type": "markdown",
      "source": [
        "kita dapat menggunakan transpose untuk mengubah kolom dan baris. baris menjadi kolom dan kolom menjadi baris."
      ],
      "metadata": {
        "id": "XKcjuL0EoaYe"
      }
    },
    {
      "cell_type": "code",
      "source": [
        "a = np.transpose(([1,2], [3,4], [5,6]))\n",
        "print(a)\n",
        "\n",
        "#atau bisa nulis kek gini\n",
        "a = np.array (([1,2], [3,4], [5,6]))\n",
        "print(a.transpose())\n",
        "\n",
        "#dan kita dapat mempersingkatnya transpose menjadi T\n",
        "a = np.array(([1,2], [3,4], [5,6]))\n",
        "print(a.T)"
      ],
      "metadata": {
        "colab": {
          "base_uri": "https://localhost:8080/"
        },
        "id": "wMzHqe7zwQxl",
        "outputId": "f1be7b75-fc64-4b81-ef84-93ab0d1c07d9"
      },
      "execution_count": null,
      "outputs": [
        {
          "output_type": "stream",
          "name": "stdout",
          "text": [
            "[[1 3 5]\n",
            " [2 4 6]]\n",
            "[[1 3 5]\n",
            " [2 4 6]]\n",
            "[[1 3 5]\n",
            " [2 4 6]]\n"
          ]
        }
      ]
    },
    {
      "cell_type": "markdown",
      "source": [
        "flatten array merupakan salah satu cara membuat variabel matriks menjadi baris semua. cthnya sebagai berikut:"
      ],
      "metadata": {
        "id": "ET4vDcbOysX8"
      }
    },
    {
      "cell_type": "code",
      "source": [
        "a = np.array (([1,2], [3,4], [5,6]))\n",
        "print(a.ravel())"
      ],
      "metadata": {
        "colab": {
          "base_uri": "https://localhost:8080/"
        },
        "id": "LrAA_fK5zOrc",
        "outputId": "910e52c0-7ef6-4d9f-dca2-7849c9403e49"
      },
      "execution_count": null,
      "outputs": [
        {
          "output_type": "stream",
          "name": "stdout",
          "text": [
            "[1 2 3 4 5 6]\n"
          ]
        }
      ]
    },
    {
      "cell_type": "markdown",
      "source": [
        "\n",
        "Fungsi resize dalam NumPy digunakan untuk mengubah ukuran array. Ini dapat digunakan untuk mengubah dimensi array atau jumlah elemen array"
      ],
      "metadata": {
        "id": "bPlHnUd44pnh"
      }
    },
    {
      "cell_type": "code",
      "source": [
        "# Membuat array 1D\n",
        "a = np.array([1, 2, 3, 4, 5])\n",
        "a.resize(3, 2)\n",
        "print(a)"
      ],
      "metadata": {
        "colab": {
          "base_uri": "https://localhost:8080/"
        },
        "id": "hs_TSHVk4ucN",
        "outputId": "f400d78a-f5ca-43a0-e03c-cfaffb0d9d0e"
      },
      "execution_count": null,
      "outputs": [
        {
          "output_type": "stream",
          "name": "stdout",
          "text": [
            "[[1 2]\n",
            " [3 4]\n",
            " [5 0]]\n"
          ]
        }
      ]
    }
  ]
}