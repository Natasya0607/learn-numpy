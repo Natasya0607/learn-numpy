{
  "nbformat": 4,
  "nbformat_minor": 0,
  "metadata": {
    "colab": {
      "provenance": []
    },
    "kernelspec": {
      "name": "python3",
      "display_name": "Python 3"
    },
    "language_info": {
      "name": "python"
    }
  },
  "cells": [
    {
      "cell_type": "code",
      "execution_count": 1,
      "metadata": {
        "colab": {
          "base_uri": "https://localhost:8080/"
        },
        "id": "6KNODXzVvFs4",
        "outputId": "c43adca2-445d-4f30-9325-15bf0be57a3c"
      },
      "outputs": [
        {
          "output_type": "stream",
          "name": "stdout",
          "text": [
            "Requirement already satisfied: numpy in /usr/local/lib/python3.10/dist-packages (1.25.2)\n"
          ]
        }
      ],
      "source": [
        "pip install numpy"
      ]
    },
    {
      "cell_type": "markdown",
      "source": [
        "belajar menggunakan numpy"
      ],
      "metadata": {
        "id": "QiM-QUoA1fN0"
      }
    },
    {
      "cell_type": "code",
      "source": [
        "import numpy as np\n",
        "\n",
        "list1 = np.array([1,2,3,4,5,6])\n",
        "print(list1)\n",
        "print(type(list1))"
      ],
      "metadata": {
        "colab": {
          "base_uri": "https://localhost:8080/"
        },
        "id": "n5GDGCC-1hpZ",
        "outputId": "a0b90ca9-d2ea-4623-91a6-ac4bf73dbc11"
      },
      "execution_count": 4,
      "outputs": [
        {
          "output_type": "stream",
          "name": "stdout",
          "text": [
            "[1 2 3 4 5 6]\n",
            "<class 'numpy.ndarray'>\n"
          ]
        }
      ]
    },
    {
      "cell_type": "markdown",
      "source": [
        "jika kita mengimpor numpy pada codenya jgn lupa menggunakan np (np merupakan inisial dari numpy yang kita buat dan ditambah dengan array di sampin np. berikut ini contoh yang lain:"
      ],
      "metadata": {
        "id": "0WvoTdGn2TAN"
      }
    },
    {
      "cell_type": "code",
      "source": [
        "#cth yg lain\n",
        "list2 = np.array((1,2,3,4,5,6,7,8,9))\n",
        "print(list2)"
      ],
      "metadata": {
        "colab": {
          "base_uri": "https://localhost:8080/"
        },
        "id": "SXUXQZvz2ueJ",
        "outputId": "e3c60cba-58e2-4fc2-f31a-e9c9c23c850e"
      },
      "execution_count": 5,
      "outputs": [
        {
          "output_type": "stream",
          "name": "stdout",
          "text": [
            "[1 2 3 4 5 6 7 8 9]\n"
          ]
        }
      ]
    },
    {
      "cell_type": "code",
      "source": [
        "#cara untuk memeriksa area list1 untuk melihat brpa bnyk anggota yg di milki\n",
        "list2.shape"
      ],
      "metadata": {
        "colab": {
          "base_uri": "https://localhost:8080/"
        },
        "id": "XpFkok_L4wkD",
        "outputId": "607b547d-9fb3-4432-d919-f40bb528cf10"
      },
      "execution_count": 7,
      "outputs": [
        {
          "output_type": "execute_result",
          "data": {
            "text/plain": [
              "(9,)"
            ]
          },
          "metadata": {},
          "execution_count": 7
        }
      ]
    },
    {
      "cell_type": "markdown",
      "source": [
        "kemudian numpy juga bisa membuat matriks dimana dalam matriks terdapat baris dan kolom"
      ],
      "metadata": {
        "id": "jxV_oelb6phb"
      }
    },
    {
      "cell_type": "code",
      "source": [
        "list3 = np.array([(1,2,3),(4,5,6),(7,8,9)])\n",
        "print(list3)\n",
        "list3.shape"
      ],
      "metadata": {
        "colab": {
          "base_uri": "https://localhost:8080/"
        },
        "id": "hTuBqJTP6w2I",
        "outputId": "b8ea5ec9-01c6-48c7-cf6e-5c255a4e1b24"
      },
      "execution_count": 10,
      "outputs": [
        {
          "output_type": "stream",
          "name": "stdout",
          "text": [
            "[[1 2 3]\n",
            " [4 5 6]\n",
            " [7 8 9]]\n"
          ]
        },
        {
          "output_type": "execute_result",
          "data": {
            "text/plain": [
              "(3, 3)"
            ]
          },
          "metadata": {},
          "execution_count": 10
        }
      ]
    },
    {
      "cell_type": "markdown",
      "source": [
        "dalam numpy kita dapat membuat matriks nol dengan menggunakan atribut\"zeros\" berikut ini cara nya:\n"
      ],
      "metadata": {
        "id": "CtWEiivZ_YlU"
      }
    },
    {
      "cell_type": "code",
      "source": [
        "nol = np.zeros((3,4))\n",
        "print(nol)"
      ],
      "metadata": {
        "colab": {
          "base_uri": "https://localhost:8080/"
        },
        "id": "WB0EHZhSAByz",
        "outputId": "b4fe4949-dab7-48dc-ed2b-d9f36cec7ea7"
      },
      "execution_count": 15,
      "outputs": [
        {
          "output_type": "stream",
          "name": "stdout",
          "text": [
            "[[0. 0. 0. 0.]\n",
            " [0. 0. 0. 0.]\n",
            " [0. 0. 0. 0.]]\n"
          ]
        }
      ]
    },
    {
      "cell_type": "markdown",
      "source": [
        "selain zero, kita dapat menggunakan ones biar sragam dalam matriks"
      ],
      "metadata": {
        "id": "vGe7FHhzIMvD"
      }
    },
    {
      "cell_type": "code",
      "source": [
        "satu =np.ones((4,5))\n",
        "print (satu)\n",
        "dua = np.ones((3,))\n",
        "print(dua)"
      ],
      "metadata": {
        "colab": {
          "base_uri": "https://localhost:8080/"
        },
        "id": "W4e0QUVvBWkU",
        "outputId": "97590c2e-2033-45ab-d8d9-1c56c8c3e3dd"
      },
      "execution_count": 18,
      "outputs": [
        {
          "output_type": "stream",
          "name": "stdout",
          "text": [
            "[[1. 1. 1. 1. 1.]\n",
            " [1. 1. 1. 1. 1.]\n",
            " [1. 1. 1. 1. 1.]\n",
            " [1. 1. 1. 1. 1.]]\n",
            "[1. 1. 1.]\n"
          ]
        }
      ]
    },
    {
      "cell_type": "markdown",
      "source": [],
      "metadata": {
        "id": "V0iZpcJwIL2L"
      }
    }
  ]
}